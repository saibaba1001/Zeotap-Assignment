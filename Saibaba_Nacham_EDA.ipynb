import pandas as pd
import numpy as np
import matplotlib.pyplot as plt
import seaborn as sns
from sklearn.metrics.pairwise import cosine_similarity
from sklearn.cluster import KMeans
from sklearn.preprocessing import StandardScaler


# Load datasets
customers = pd.read_csv('Customers.csv')
products = pd.read_csv('Products.csv')
transactions = pd.read_csv('Transactions.csv')
# TASK 1: EDA
# Merging datasets
transactions_merged = transactions.merge(products, on='ProductID').merge(customers, on='CustomerID')
plt.figure(figsize=(8, 5))
sns.countplot(y=customers['Region'], palette='viridis')
plt.title('Customer Distribution by Region')
plt.show()
avg_price_category = products.groupby('Category')['Price'].mean()
print("Average Price by Category:")
print(avg_price_category)
total_value_by_region = transactions_merged.groupby('Region')['TotalValue'].sum()
print("Total Transaction Value by Region:")
print(total_value_by_region)



