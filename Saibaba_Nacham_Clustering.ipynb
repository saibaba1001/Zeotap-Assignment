# TASK 3: Customer Clustering
features = transactions_merged.groupby('CustomerID')[['TotalValue', 'Quantity']].sum()
scaler = StandardScaler()
scaled_features = scaler.fit_transform(features)
kmeans = KMeans(n_clusters=4, random_state=42, n_init=10)
kmeans.fit(scaled_features)
features['Cluster'] = kmeans.labels_

# Plot Clusters
plt.figure(figsize=(8, 5))
sns.scatterplot(x=features['TotalValue'], y=features['Quantity'], hue=features['Cluster'], palette='coolwarm')
plt.title('Customer Segmentation')
plt.xlabel('Total Transaction Value')
plt.ylabel('Quantity Purchased')
plt.show()

print("Customer Segmentation Completed with K-Means Clustering")
