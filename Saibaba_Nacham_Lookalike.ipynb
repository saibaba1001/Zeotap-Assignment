# TASK 2: Lookalike Model
customer_product_matrix = transactions_merged.pivot_table(index='CustomerID', columns='ProductName', values='Quantity', aggfunc='sum').fillna(0)
cosine_sim = cosine_similarity(customer_product_matrix)
customer_index = {customer: idx for idx, customer in enumerate(customer_product_matrix.index)}

lookalike_results = {}
for customer_id in list(customer_index.keys())[:20]:
    idx = customer_index[customer_id]
    scores = list(enumerate(cosine_sim[idx]))
    scores = sorted(scores, key=lambda x: x[1], reverse=True)[1:4]
    lookalikes = [(list(customer_index.keys())[i], round(score, 3)) for i, score in scores]
    lookalike_results[customer_id] = lookalikes

print("Lookalike Model Results for First 20 Customers:")
print(lookalike_results)